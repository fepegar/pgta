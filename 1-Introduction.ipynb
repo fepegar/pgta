{
 "cells": [
  {
   "cell_type": "markdown",
   "id": "5f202347",
   "metadata": {
    "slideshow": {
     "slide_type": "slide"
    }
   },
   "source": [
    "# Scientific computing with Python"
   ]
  },
  {
   "cell_type": "markdown",
   "id": "0747a019",
   "metadata": {
    "slideshow": {
     "slide_type": "fragment"
    }
   },
   "source": [
    "(Also known as \"Computational science\")\n",
    "\n",
    "> _Scientific computing is the collection of tools, techniques and theories required to solve on a computer the mathematical models of problems in science and engineering._\n",
    "\n",
    "[Gene H. Golub](https://en.wikipedia.org/wiki/Gene_H._Golub) and [James M. Ortega](https://www.encyclopedia.com/arts/culture-magazines/ortega-james-m), 1991, [_Scientific Computing and Differential Equations_](https://www.sciencedirect.com/book/9780080516691/scientific-computing-and-differential-equations)."
   ]
  },
  {
   "cell_type": "markdown",
   "id": "625577c2",
   "metadata": {
    "slideshow": {
     "slide_type": "fragment"
    }
   },
   "source": [
    "![Scientific computing Venn diagram](https://static.packt-cdn.com/products/9781783288823/graphics/B02092_01_01.jpg)\n",
    "\n",
    "From [packtpub.com](https://subscription.packtpub.com/book/big-data-and-business-intelligence/9781783288823/1/ch01lvl1sec08/definition-of-scientific-computing)"
   ]
  },
  {
   "cell_type": "markdown",
   "id": "d287ee6d",
   "metadata": {
    "slideshow": {
     "slide_type": "slide"
    }
   },
   "source": [
    "## Introduction\n",
    "\n",
    "Quick demonstration of Python vs. scientific Python."
   ]
  },
  {
   "cell_type": "code",
   "execution_count": 1,
   "id": "29fd0bcb",
   "metadata": {
    "slideshow": {
     "slide_type": "fragment"
    }
   },
   "outputs": [
    {
     "data": {
      "text/plain": [
       "[0.49076764871039935,\n",
       " 0.607775768615654,\n",
       " 0.6316498228747872,\n",
       " 0.37128379642491505,\n",
       " 0.6754879704714619]"
      ]
     },
     "execution_count": 1,
     "metadata": {},
     "output_type": "execute_result"
    }
   ],
   "source": [
    "import random\n",
    "\n",
    "numbers = []\n",
    "for _ in range(1_000_000):  # or 1000000, or 1e6\n",
    "    number = random.random()\n",
    "    numbers.append(number)\n",
    "numbers[:5]"
   ]
  },
  {
   "cell_type": "code",
   "execution_count": 2,
   "id": "33257711",
   "metadata": {
    "slideshow": {
     "slide_type": "fragment"
    }
   },
   "outputs": [
    {
     "name": "stdout",
     "output_type": "stream",
     "text": [
      "37.7 ms ± 894 µs per loop (mean ± std. dev. of 7 runs, 10 loops each)\n"
     ]
    }
   ],
   "source": [
    "%%timeit\n",
    "total = 0\n",
    "for number in numbers:\n",
    "    total = total + number  # or total += number"
   ]
  },
  {
   "cell_type": "code",
   "execution_count": 3,
   "id": "3e186a9a",
   "metadata": {
    "slideshow": {
     "slide_type": "slide"
    }
   },
   "outputs": [
    {
     "data": {
      "text/plain": [
       "array([0.20476365, 0.69039949, 0.59663963, 0.54587861, 0.69334375])"
      ]
     },
     "execution_count": 3,
     "metadata": {},
     "output_type": "execute_result"
    }
   ],
   "source": [
    "import numpy as np\n",
    "\n",
    "numbers = np.random.rand(1_000_000)\n",
    "numbers[:5]"
   ]
  },
  {
   "cell_type": "code",
   "execution_count": 12,
   "id": "d0e92df3",
   "metadata": {
    "slideshow": {
     "slide_type": "fragment"
    }
   },
   "outputs": [
    {
     "name": "stdout",
     "output_type": "stream",
     "text": [
      "539 µs ± 21.5 µs per loop (mean ± std. dev. of 7 runs, 1000 loops each)\n"
     ]
    }
   ],
   "source": [
    "%%timeit\n",
    "total = numbers.sum()"
   ]
  },
  {
   "cell_type": "code",
   "execution_count": 5,
   "id": "fa3e604b",
   "metadata": {
    "slideshow": {
     "slide_type": "slide"
    }
   },
   "outputs": [
    {
     "name": "stdout",
     "output_type": "stream",
     "text": [
      "Time difference: 22.6 ms\n",
      "NumPy was 55 times faster\n"
     ]
    }
   ],
   "source": [
    "time_python = 23e-3  # or 23 * 10**(-3)\n",
    "time_numpy = 420e-6\n",
    "difference = time_python - time_numpy\n",
    "ratio = round(time_python / time_numpy)\n",
    "print(f'Time difference: {difference * 1000:.1f} ms')\n",
    "print(f'NumPy was {ratio} times faster')"
   ]
  },
  {
   "cell_type": "code",
   "execution_count": 6,
   "id": "d3cb3a2e",
   "metadata": {
    "slideshow": {
     "slide_type": "slide"
    }
   },
   "outputs": [],
   "source": [
    "num_rows, num_columns = shape = 10, 20\n",
    "low, high = 0, 3"
   ]
  },
  {
   "cell_type": "code",
   "execution_count": 7,
   "id": "af698450",
   "metadata": {
    "slideshow": {
     "slide_type": "fragment"
    }
   },
   "outputs": [
    {
     "data": {
      "text/plain": [
       "[[2, 2, 1, 3, 0, 0, 3, 2, 2, 3, 2, 1, 0, 3, 1, 0, 1, 3, 3, 3],\n",
       " [1, 0, 2, 0, 0, 1, 3, 3, 1, 3, 1, 0, 1, 3, 2, 0, 3, 1, 1, 0],\n",
       " [1, 3, 2, 1, 1, 2, 1, 0, 1, 1, 2, 3, 1, 3, 0, 0, 3, 0, 0, 0],\n",
       " [3, 3, 1, 3, 1, 3, 2, 2, 3, 1, 0, 2, 1, 0, 1, 0, 3, 3, 3, 1],\n",
       " [3, 3, 2, 1, 0, 0, 3, 3, 3, 1, 2, 3, 0, 1, 1, 1, 3, 1, 1, 0],\n",
       " [0, 2, 3, 0, 1, 2, 0, 2, 2, 2, 2, 1, 0, 2, 1, 0, 0, 3, 3, 0],\n",
       " [3, 2, 0, 2, 1, 3, 3, 3, 2, 0, 2, 3, 1, 1, 1, 3, 0, 2, 1, 3],\n",
       " [1, 2, 3, 2, 1, 3, 0, 1, 2, 1, 3, 0, 2, 0, 2, 0, 2, 2, 0, 1],\n",
       " [1, 1, 0, 1, 3, 1, 1, 3, 2, 3, 3, 1, 3, 3, 2, 2, 0, 3, 2, 3],\n",
       " [0, 2, 0, 0, 1, 3, 3, 3, 0, 0, 1, 0, 1, 2, 1, 2, 2, 2, 0, 2]]"
      ]
     },
     "execution_count": 7,
     "metadata": {},
     "output_type": "execute_result"
    }
   ],
   "source": [
    "rows_list = []\n",
    "for row_index in range(num_rows):\n",
    "    row = []\n",
    "    for colum_index in range(num_columns):\n",
    "        row.append(random.randint(low, high))\n",
    "    rows_list.append(row)\n",
    "rows_list"
   ]
  },
  {
   "cell_type": "code",
   "execution_count": 8,
   "id": "cb17f015",
   "metadata": {
    "slideshow": {
     "slide_type": "fragment"
    }
   },
   "outputs": [
    {
     "data": {
      "text/plain": [
       "array([[2, 0, 1, 3, 0, 0, 0, 3, 1, 0, 2, 2, 1, 0, 2, 1, 3, 0, 3, 3],\n",
       "       [0, 1, 1, 1, 3, 2, 0, 3, 2, 1, 1, 0, 1, 3, 3, 2, 2, 0, 3, 3],\n",
       "       [3, 1, 0, 3, 3, 3, 0, 1, 0, 1, 3, 3, 2, 0, 0, 1, 1, 1, 0, 1],\n",
       "       [1, 0, 1, 1, 1, 3, 2, 1, 3, 2, 2, 1, 3, 3, 0, 2, 3, 1, 1, 2],\n",
       "       [1, 3, 0, 2, 2, 1, 2, 1, 1, 2, 3, 0, 3, 1, 2, 2, 3, 1, 1, 2],\n",
       "       [0, 2, 3, 3, 2, 3, 1, 0, 3, 1, 2, 0, 2, 1, 3, 2, 2, 3, 3, 2],\n",
       "       [2, 1, 1, 1, 2, 2, 2, 0, 1, 3, 1, 3, 0, 3, 0, 0, 0, 2, 0, 1],\n",
       "       [1, 3, 0, 1, 1, 3, 3, 0, 1, 2, 1, 3, 3, 0, 1, 1, 2, 1, 2, 0],\n",
       "       [2, 0, 3, 2, 0, 1, 2, 0, 2, 0, 3, 1, 0, 3, 2, 0, 2, 1, 2, 3],\n",
       "       [0, 2, 2, 2, 1, 2, 2, 2, 1, 1, 1, 2, 1, 1, 1, 2, 1, 2, 2, 2]])"
      ]
     },
     "execution_count": 8,
     "metadata": {},
     "output_type": "execute_result"
    }
   ],
   "source": [
    "array = np.random.randint(low, high + 1, shape)\n",
    "array"
   ]
  },
  {
   "cell_type": "code",
   "execution_count": 9,
   "id": "915c9e92",
   "metadata": {
    "slideshow": {
     "slide_type": "slide"
    }
   },
   "outputs": [
    {
     "data": {
      "text/plain": [
       "307"
      ]
     },
     "execution_count": 9,
     "metadata": {},
     "output_type": "execute_result"
    }
   ],
   "source": [
    "total = 0\n",
    "for row in rows_list:\n",
    "    for value in row:\n",
    "        total += value\n",
    "total"
   ]
  },
  {
   "cell_type": "code",
   "execution_count": 10,
   "id": "5b0a0347",
   "metadata": {
    "slideshow": {
     "slide_type": "fragment"
    }
   },
   "outputs": [
    {
     "data": {
      "text/plain": [
       "303"
      ]
     },
     "execution_count": 10,
     "metadata": {},
     "output_type": "execute_result"
    }
   ],
   "source": [
    "array.sum()"
   ]
  },
  {
   "cell_type": "code",
   "execution_count": null,
   "id": "cb80268b",
   "metadata": {
    "slideshow": {
     "slide_type": "fragment"
    }
   },
   "outputs": [],
   "source": [
    "np.asarray(rows_list).sum()"
   ]
  },
  {
   "cell_type": "markdown",
   "id": "bb863b6e",
   "metadata": {
    "slideshow": {
     "slide_type": "slide"
    }
   },
   "source": [
    "## To know more\n",
    "\n",
    "- [Python for Scientific Computing](https://aaltoscicomp.github.io/python-for-scicomp/)\n",
    "- [Scipy Lecture Notes](https://scipy-lectures.org/)"
   ]
  }
 ],
 "metadata": {
  "celltoolbar": "Slideshow",
  "kernelspec": {
   "display_name": "Python 3 (ipykernel)",
   "language": "python",
   "name": "python3"
  },
  "language_info": {
   "codemirror_mode": {
    "name": "ipython",
    "version": 3
   },
   "file_extension": ".py",
   "mimetype": "text/x-python",
   "name": "python",
   "nbconvert_exporter": "python",
   "pygments_lexer": "ipython3",
   "version": "3.9.7"
  }
 },
 "nbformat": 4,
 "nbformat_minor": 5
}
