{
 "cells": [
  {
   "cell_type": "markdown",
   "id": "2ab2c455",
   "metadata": {
    "slideshow": {
     "slide_type": "slide"
    }
   },
   "source": [
    "# Introduction\n",
    "\n",
    "## About me\n",
    "\n",
    "- Fernando Pérez-García\n",
    "- fernando.perezgarcia.17@ucl.ac.uk"
   ]
  },
  {
   "cell_type": "markdown",
   "id": "72fb731d",
   "metadata": {
    "slideshow": {
     "slide_type": "fragment"
    }
   },
   "source": [
    "## Survey and questions\n",
    "\n",
    "### Mentimeter\n",
    "\n",
    "Please go to https://www.menti.com/. The voting code 83 12 52 8."
   ]
  },
  {
   "cell_type": "markdown",
   "id": "bdb31563",
   "metadata": {
    "slideshow": {
     "slide_type": "fragment"
    }
   },
   "source": [
    "## Notebooks\n",
    "\n",
    "### Binder\n",
    "\n",
    "URL: https://mybinder.org/v2/gh/fepegar/pgta/HEAD"
   ]
  },
  {
   "cell_type": "markdown",
   "id": "e7a2cb22",
   "metadata": {
    "slideshow": {
     "slide_type": "slide"
    }
   },
   "source": [
    "# Scientific computing with Python"
   ]
  },
  {
   "cell_type": "markdown",
   "id": "047560f8",
   "metadata": {
    "slideshow": {
     "slide_type": "fragment"
    }
   },
   "source": [
    "(Also known as \"Computational science\")\n",
    "\n",
    "> _Scientific computing is the collection of tools, techniques and theories required to solve on a computer the mathematical models of problems in science and engineering._\n",
    "\n",
    "[Gene H. Golub](https://en.wikipedia.org/wiki/Gene_H._Golub) and [James M. Ortega](https://www.encyclopedia.com/arts/culture-magazines/ortega-james-m), 1991, [_Scientific Computing and Differential Equations_](https://www.sciencedirect.com/book/9780080516691/scientific-computing-and-differential-equations)."
   ]
  },
  {
   "cell_type": "markdown",
   "id": "c4e83580",
   "metadata": {
    "slideshow": {
     "slide_type": "fragment"
    }
   },
   "source": [
    "![Scientific computing Venn diagram](https://static.packt-cdn.com/products/9781783288823/graphics/B02092_01_01.jpg)\n",
    "\n",
    "From [packtpub.com](https://subscription.packtpub.com/book/big-data-and-business-intelligence/9781783288823/1/ch01lvl1sec08/definition-of-scientific-computing)"
   ]
  },
  {
   "cell_type": "markdown",
   "id": "e0e0c3eb",
   "metadata": {
    "slideshow": {
     "slide_type": "slide"
    }
   },
   "source": [
    "## Introduction\n",
    "\n",
    "Quick demonstration of Python vs. scientific Python."
   ]
  },
  {
   "cell_type": "code",
   "execution_count": 1,
   "id": "e07f8dd0",
   "metadata": {
    "slideshow": {
     "slide_type": "fragment"
    }
   },
   "outputs": [
    {
     "data": {
      "text/plain": [
       "[0.23276059474000332,\n",
       " 0.28616244134723634,\n",
       " 0.5794776854127316,\n",
       " 0.9817363772436624,\n",
       " 0.9697478100187787]"
      ]
     },
     "execution_count": 1,
     "metadata": {},
     "output_type": "execute_result"
    }
   ],
   "source": [
    "import random\n",
    "\n",
    "numbers = []\n",
    "for _ in range(10_000_000):  # or 10000000\n",
    "    number = random.random()\n",
    "    numbers.append(number)\n",
    "numbers[:5]"
   ]
  },
  {
   "cell_type": "code",
   "execution_count": 2,
   "id": "64b6ad08",
   "metadata": {
    "slideshow": {
     "slide_type": "fragment"
    }
   },
   "outputs": [
    {
     "name": "stdout",
     "output_type": "stream",
     "text": [
      "578 ms ± 85.4 ms per loop (mean ± std. dev. of 7 runs, 1 loop each)\n"
     ]
    }
   ],
   "source": [
    "%%timeit\n",
    "total = 0\n",
    "for number in numbers:\n",
    "    total = total + number  # or total += number"
   ]
  },
  {
   "cell_type": "code",
   "execution_count": 3,
   "id": "83b100fa",
   "metadata": {
    "slideshow": {
     "slide_type": "slide"
    }
   },
   "outputs": [
    {
     "data": {
      "text/plain": [
       "array([0.60161055, 0.07907887, 0.25668354, 0.21053895, 0.89635943])"
      ]
     },
     "execution_count": 3,
     "metadata": {},
     "output_type": "execute_result"
    }
   ],
   "source": [
    "import numpy as np\n",
    "\n",
    "numbers = np.random.rand(10_000_000)\n",
    "numbers[:5]"
   ]
  },
  {
   "cell_type": "code",
   "execution_count": 4,
   "id": "b30bd319",
   "metadata": {
    "slideshow": {
     "slide_type": "fragment"
    }
   },
   "outputs": [
    {
     "name": "stdout",
     "output_type": "stream",
     "text": [
      "20.3 ms ± 4.03 ms per loop (mean ± std. dev. of 7 runs, 100 loops each)\n"
     ]
    }
   ],
   "source": [
    "%%timeit\n",
    "total = numbers.sum()"
   ]
  },
  {
   "cell_type": "code",
   "execution_count": 5,
   "id": "f93f4e08",
   "metadata": {
    "slideshow": {
     "slide_type": "slide"
    }
   },
   "outputs": [
    {
     "name": "stdout",
     "output_type": "stream",
     "text": [
      "Time difference: 216.0 ms\n",
      "NumPy was 55 times faster\n"
     ]
    }
   ],
   "source": [
    "time_python = 220e-3  # or 220 * 10**(-3)\n",
    "time_numpy = 4e-3\n",
    "difference = time_python - time_numpy\n",
    "ratio = round(time_python / time_numpy)\n",
    "print(f'Time difference: {difference * 1000:.1f} ms')\n",
    "print(f'NumPy was {ratio} times faster')"
   ]
  },
  {
   "cell_type": "code",
   "execution_count": 6,
   "id": "ccf240c3",
   "metadata": {
    "slideshow": {
     "slide_type": "slide"
    }
   },
   "outputs": [],
   "source": [
    "num_rows, num_columns = shape = 10, 20\n",
    "low, high = 0, 3"
   ]
  },
  {
   "cell_type": "code",
   "execution_count": 7,
   "id": "8390ea93",
   "metadata": {
    "slideshow": {
     "slide_type": "fragment"
    }
   },
   "outputs": [
    {
     "data": {
      "text/plain": [
       "[[0, 0, 0, 1, 0, 2, 1, 1, 1, 2, 3, 0, 2, 0, 3, 0, 2, 3, 1, 0],\n",
       " [2, 1, 0, 0, 3, 1, 2, 2, 0, 3, 0, 2, 1, 0, 0, 1, 3, 2, 1, 3],\n",
       " [0, 1, 2, 3, 3, 1, 3, 2, 0, 0, 2, 1, 0, 3, 1, 2, 1, 3, 1, 3],\n",
       " [3, 0, 2, 3, 1, 1, 3, 1, 3, 0, 0, 2, 2, 1, 2, 2, 2, 1, 2, 2],\n",
       " [3, 0, 1, 2, 3, 0, 0, 1, 3, 3, 3, 3, 2, 1, 0, 0, 1, 0, 3, 2],\n",
       " [3, 2, 1, 3, 3, 0, 3, 2, 2, 0, 2, 0, 0, 0, 1, 1, 3, 2, 1, 3],\n",
       " [3, 3, 1, 3, 0, 2, 3, 1, 0, 3, 2, 2, 3, 3, 2, 1, 2, 2, 2, 0],\n",
       " [1, 2, 3, 1, 3, 2, 3, 1, 0, 3, 0, 3, 1, 1, 1, 0, 2, 2, 2, 1],\n",
       " [2, 1, 3, 0, 0, 0, 0, 0, 2, 0, 0, 1, 3, 1, 1, 1, 3, 1, 2, 2],\n",
       " [3, 2, 0, 3, 1, 3, 1, 3, 2, 3, 3, 2, 2, 0, 2, 3, 0, 2, 1, 3]]"
      ]
     },
     "execution_count": 7,
     "metadata": {},
     "output_type": "execute_result"
    }
   ],
   "source": [
    "rows_list = []\n",
    "for row_index in range(num_rows):\n",
    "    row = []\n",
    "    for colum_index in range(num_columns):\n",
    "        row.append(random.randint(low, high))\n",
    "    rows_list.append(row)\n",
    "rows_list"
   ]
  },
  {
   "cell_type": "code",
   "execution_count": 8,
   "id": "368be01c",
   "metadata": {
    "slideshow": {
     "slide_type": "fragment"
    }
   },
   "outputs": [
    {
     "data": {
      "text/plain": [
       "array([[1, 1, 1, 1, 3, 0, 2, 2, 3, 3, 2, 1, 3, 3, 3, 0, 3, 2, 3, 3],\n",
       "       [3, 3, 1, 3, 0, 1, 0, 0, 1, 1, 1, 1, 1, 3, 1, 0, 1, 3, 1, 2],\n",
       "       [2, 3, 0, 2, 0, 2, 1, 0, 2, 0, 0, 1, 0, 1, 1, 3, 2, 1, 3, 3],\n",
       "       [1, 3, 2, 3, 0, 1, 2, 1, 0, 2, 1, 0, 2, 1, 0, 0, 0, 1, 0, 3],\n",
       "       [2, 0, 0, 1, 3, 0, 1, 2, 3, 0, 0, 1, 3, 3, 3, 3, 3, 3, 2, 3],\n",
       "       [0, 0, 1, 0, 2, 0, 2, 2, 2, 3, 3, 1, 0, 3, 2, 3, 2, 1, 2, 2],\n",
       "       [2, 0, 3, 3, 2, 2, 0, 0, 1, 3, 1, 1, 2, 3, 2, 1, 1, 1, 2, 3],\n",
       "       [3, 3, 2, 1, 2, 0, 1, 1, 1, 0, 0, 2, 0, 2, 0, 1, 2, 1, 1, 2],\n",
       "       [0, 3, 3, 2, 1, 0, 2, 2, 1, 0, 0, 1, 0, 3, 1, 2, 2, 0, 0, 2],\n",
       "       [3, 2, 2, 0, 0, 3, 0, 0, 0, 2, 1, 3, 0, 1, 0, 3, 3, 1, 1, 2]])"
      ]
     },
     "execution_count": 8,
     "metadata": {},
     "output_type": "execute_result"
    }
   ],
   "source": [
    "array = np.random.randint(low, high + 1, shape)\n",
    "array"
   ]
  },
  {
   "cell_type": "code",
   "execution_count": 9,
   "id": "75ffc2b0",
   "metadata": {
    "slideshow": {
     "slide_type": "slide"
    }
   },
   "outputs": [
    {
     "data": {
      "text/plain": [
       "309"
      ]
     },
     "execution_count": 9,
     "metadata": {},
     "output_type": "execute_result"
    }
   ],
   "source": [
    "total = 0\n",
    "for row in rows_list:\n",
    "    for value in row:\n",
    "        total += value\n",
    "total"
   ]
  },
  {
   "cell_type": "code",
   "execution_count": 10,
   "id": "2a3cb2ae",
   "metadata": {
    "slideshow": {
     "slide_type": "fragment"
    }
   },
   "outputs": [
    {
     "data": {
      "text/plain": [
       "294"
      ]
     },
     "execution_count": 10,
     "metadata": {},
     "output_type": "execute_result"
    }
   ],
   "source": [
    "array.sum()"
   ]
  },
  {
   "cell_type": "code",
   "execution_count": 11,
   "id": "825ca3e4",
   "metadata": {
    "slideshow": {
     "slide_type": "fragment"
    }
   },
   "outputs": [
    {
     "data": {
      "text/plain": [
       "309"
      ]
     },
     "execution_count": 11,
     "metadata": {},
     "output_type": "execute_result"
    }
   ],
   "source": [
    "np.asarray(rows_list).sum()"
   ]
  },
  {
   "cell_type": "markdown",
   "id": "3c96aa5b",
   "metadata": {
    "slideshow": {
     "slide_type": "slide"
    }
   },
   "source": [
    "Scientific computing in astronomy papers:\n",
    "\n",
    "\n",
    "<img src=\"https://raw.githubusercontent.com/elegant-scipy/elegant-scipy/master/figures/python-in-astronomy.png\" width=\"600px\">"
   ]
  },
  {
   "cell_type": "markdown",
   "id": "57c9bbaf",
   "metadata": {
    "slideshow": {
     "slide_type": "slide"
    }
   },
   "source": [
    "## To know more\n",
    "\n",
    "- [Python for Scientific Computing](https://aaltoscicomp.github.io/python-for-scicomp/)\n",
    "- [Scipy Lecture Notes](https://scipy-lectures.org/)\n",
    "- [Elegant SciPy (interactive notebooks)](https://mybinder.org/v2/gh/elegant-scipy/notebooks/master?filepath=index.ipynb)"
   ]
  },
  {
   "cell_type": "markdown",
   "id": "149b1a38",
   "metadata": {
    "slideshow": {
     "slide_type": "slide"
    }
   },
   "source": [
    "## Questions"
   ]
  }
 ],
 "metadata": {
  "celltoolbar": "Slideshow",
  "kernelspec": {
   "display_name": "Python 3 (ipykernel)",
   "language": "python",
   "name": "python3"
  },
  "language_info": {
   "codemirror_mode": {
    "name": "ipython",
    "version": 3
   },
   "file_extension": ".py",
   "mimetype": "text/x-python",
   "name": "python",
   "nbconvert_exporter": "python",
   "pygments_lexer": "ipython3",
   "version": "3.9.7"
  }
 },
 "nbformat": 4,
 "nbformat_minor": 5
}
