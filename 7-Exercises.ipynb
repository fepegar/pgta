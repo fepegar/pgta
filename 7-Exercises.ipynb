{
 "cells": [
  {
   "cell_type": "markdown",
   "id": "81501ebf",
   "metadata": {
    "slideshow": {
     "slide_type": "slide"
    }
   },
   "source": [
    "# Exercises"
   ]
  },
  {
   "cell_type": "markdown",
   "id": "dec6a7cc",
   "metadata": {
    "slideshow": {
     "slide_type": "slide"
    }
   },
   "source": [
    "## Part 1: Dataset inspection using Pandas and Seaborn"
   ]
  },
  {
   "cell_type": "markdown",
   "id": "9e721a58",
   "metadata": {
    "slideshow": {
     "slide_type": "fragment"
    }
   },
   "source": [
    "Understanding the data we are working with is extremely useful. This is especially relevant nowadays, as many powerful recent methods are data-driven.\n",
    "\n",
    "We will use some well-known datasets to better appreciate the importance of data inspection."
   ]
  },
  {
   "cell_type": "markdown",
   "id": "47e7857c",
   "metadata": {
    "slideshow": {
     "slide_type": "fragment"
    }
   },
   "source": [
    "1. Read [this dataset](https://gist.githubusercontent.com/ericbusboom/b2ac1d366c005cd2ed8c/raw/c92c66e43d144fa9c29dbd602d5af6988e8db533/anscombes.csv) using Pandas (there are multiple datasets in the data frame). Hint: you don't need to download the file beforehand\n",
    "2. [Group](https://pandas.pydata.org/docs/reference/api/pandas.DataFrame.groupby.html) the data frame by dataset and print the `mean()` and `std()`. Are all the datasets the same? Hint: you can use the `columns` method of the data frame to figure out a good argument for the grouping method\n",
    "3. Write a function that shows a scatter plot for each dataset in the data frame\n",
    "4. Use the `describe()` method of the data frame class to compute more statistics. Are these most useful than the mean and the standard deviation?\n",
    "5. Do the same with the datasets in `dozen_datasets.tsv`. Hint: use the kwarg `sep` of `pandas.read_csv` to read the [TSV file](https://en.wikipedia.org/wiki/Tab-separated_values#Conventions_for_lossless_conversion_to_TSV)"
   ]
  },
  {
   "cell_type": "markdown",
   "id": "df193850",
   "metadata": {
    "slideshow": {
     "slide_type": "slide"
    }
   },
   "source": [
    "## Part 2: Particle simulation using NumPy and Pillow"
   ]
  },
  {
   "cell_type": "markdown",
   "id": "11099992",
   "metadata": {
    "slideshow": {
     "slide_type": "fragment"
    }
   },
   "source": [
    "Simulation is very important when running experiments with real data is expensive. For example, we might want to simulate a car crash or a supernova. These experiments would be very expensive to actually recreate (especially the supernova).\n",
    "\n",
    "We will simulate some particles moving and visualise the results using the libraries we know."
   ]
  },
  {
   "cell_type": "markdown",
   "id": "c6794f6c",
   "metadata": {
    "slideshow": {
     "slide_type": "fragment"
    }
   },
   "source": [
    "1. Create an long image using NumPy or Pillow (bonus: make it RGB)\n",
    "2. Write a function that creates a copy of the image and draws a square in it using standard [indexing](https://numpy.org/doc/stable/reference/arrays.indexing.html) (for NumPy) or [`ImageDraw`](https://pillow.readthedocs.io/en/stable/reference/ImageDraw.html) (for Pillow)\n",
    "3. Create an animation of the square moving in the image. You can use Pillow to [write a GIF from a list instances of `PIL.Image`](https://note.nkmk.me/en/python-pillow-gif/). Use your imagination!"
   ]
  },
  {
   "cell_type": "markdown",
   "id": "e5c19982",
   "metadata": {
    "slideshow": {
     "slide_type": "slide"
    }
   },
   "source": [
    "## To know more\n",
    "\n",
    "###  On the importance of dataset inspection\n",
    "\n",
    "- [Anscombe's quartet](https://en.wikipedia.org/wiki/Anscombe%27s_quartet)\n",
    "- [Exploratory data analysis](https://en.wikipedia.org/wiki/Exploratory_data_analysis)\n",
    "- [Point 1 in Andrej Karpathy's (Director of AI at Tesla) post _A Recipe for Training Neural Networks_](http://karpathy.github.io/2019/04/25/recipe/)\n",
    "\n",
    "### On particle simulation\n",
    "\n",
    "- [Particle system](https://en.wikipedia.org/wiki/Particle_system)\n",
    "- [Google's LiquidFun](https://google.github.io/liquidfun/)\n",
    "- [Boids](https://en.wikipedia.org/wiki/Boids)\n",
    "\n",
    "\n",
    "![](https://lh3.googleusercontent.com/Z08htQwOQyxu_ywSul5cPaSU13g-bCC_9kP0oKhQNAPYBWFJNhxKfZk9zXXBMGdpPK8mckWs3w6ErF9OOUAcqUvGwnFsJf5ElrvJ)\n",
    "\n",
    "![](https://thumbs.gfycat.com/NearMarvelousCanadagoose-size_restricted.gif)"
   ]
  }
 ],
 "metadata": {
  "celltoolbar": "Slideshow",
  "kernelspec": {
   "display_name": "Python 3 (ipykernel)",
   "language": "python",
   "name": "python3"
  },
  "language_info": {
   "codemirror_mode": {
    "name": "ipython",
    "version": 3
   },
   "file_extension": ".py",
   "mimetype": "text/x-python",
   "name": "python",
   "nbconvert_exporter": "python",
   "pygments_lexer": "ipython3",
   "version": "3.9.7"
  }
 },
 "nbformat": 4,
 "nbformat_minor": 5
}
