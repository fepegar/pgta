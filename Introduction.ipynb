{
 "cells": [
  {
   "cell_type": "markdown",
   "id": "5f202347",
   "metadata": {
    "slideshow": {
     "slide_type": "slide"
    }
   },
   "source": [
    "# Scientific computing with Python"
   ]
  },
  {
   "cell_type": "markdown",
   "id": "d287ee6d",
   "metadata": {
    "slideshow": {
     "slide_type": "slide"
    }
   },
   "source": [
    "## Introduction\n",
    "\n",
    "Quick demonstration of Python vs. scientific Python."
   ]
  },
  {
   "cell_type": "code",
   "execution_count": 1,
   "id": "29fd0bcb",
   "metadata": {
    "slideshow": {
     "slide_type": "fragment"
    }
   },
   "outputs": [
    {
     "data": {
      "text/plain": [
       "[0.20829073758042427,\n",
       " 0.4090656510103151,\n",
       " 0.17176655954498143,\n",
       " 0.4716762209573544,\n",
       " 0.5467378349842222]"
      ]
     },
     "execution_count": 1,
     "metadata": {},
     "output_type": "execute_result"
    }
   ],
   "source": [
    "import random\n",
    "\n",
    "numbers = []\n",
    "for _ in range(1_000_000):  # or 1000000, or 1e6\n",
    "    number = random.random()\n",
    "    numbers.append(number)\n",
    "numbers[:5]"
   ]
  },
  {
   "cell_type": "code",
   "execution_count": 2,
   "id": "33257711",
   "metadata": {
    "slideshow": {
     "slide_type": "fragment"
    }
   },
   "outputs": [
    {
     "name": "stdout",
     "output_type": "stream",
     "text": [
      "38.2 ms ± 3.55 ms per loop (mean ± std. dev. of 7 runs, 10 loops each)\n"
     ]
    }
   ],
   "source": [
    "%%timeit\n",
    "total = 0\n",
    "for number in numbers:\n",
    "    total = total + number  # or total += number"
   ]
  },
  {
   "cell_type": "code",
   "execution_count": 3,
   "id": "3e186a9a",
   "metadata": {
    "slideshow": {
     "slide_type": "slide"
    }
   },
   "outputs": [
    {
     "data": {
      "text/plain": [
       "array([0.29273396, 0.53783993, 0.62850835, 0.41072188, 0.32894735])"
      ]
     },
     "execution_count": 3,
     "metadata": {},
     "output_type": "execute_result"
    }
   ],
   "source": [
    "import numpy as np\n",
    "\n",
    "numbers = np.random.rand(1_000_000)\n",
    "numbers[:5]"
   ]
  },
  {
   "cell_type": "code",
   "execution_count": 4,
   "id": "d0e92df3",
   "metadata": {
    "slideshow": {
     "slide_type": "fragment"
    }
   },
   "outputs": [
    {
     "name": "stdout",
     "output_type": "stream",
     "text": [
      "585 µs ± 133 µs per loop (mean ± std. dev. of 7 runs, 1000 loops each)\n"
     ]
    }
   ],
   "source": [
    "%%timeit\n",
    "total = numbers.sum()"
   ]
  },
  {
   "cell_type": "code",
   "execution_count": 5,
   "id": "fa3e604b",
   "metadata": {
    "slideshow": {
     "slide_type": "slide"
    }
   },
   "outputs": [
    {
     "name": "stdout",
     "output_type": "stream",
     "text": [
      "Time difference: 22.6 ms\n",
      "NumPy was 55 times faster\n"
     ]
    }
   ],
   "source": [
    "time_python = 23e-3  # or 23 * 10**(-3)\n",
    "time_numpy = 420e-6\n",
    "difference = time_python - time_numpy\n",
    "ratio = round(time_python / time_numpy)\n",
    "print(f'Time difference: {difference * 1000:.1f} ms')\n",
    "print(f'NumPy was {ratio} times faster')"
   ]
  },
  {
   "cell_type": "code",
   "execution_count": 6,
   "id": "d3cb3a2e",
   "metadata": {
    "slideshow": {
     "slide_type": "slide"
    }
   },
   "outputs": [],
   "source": [
    "num_rows, num_columns = shape = 10, 20\n",
    "low, high = 0, 3"
   ]
  },
  {
   "cell_type": "code",
   "execution_count": 7,
   "id": "af698450",
   "metadata": {
    "slideshow": {
     "slide_type": "fragment"
    }
   },
   "outputs": [
    {
     "data": {
      "text/plain": [
       "[[3, 0, 2, 3, 0, 3, 3, 2, 3, 0, 2, 3, 0, 2, 0, 2, 3, 2, 0, 2],\n",
       " [0, 3, 3, 0, 2, 2, 1, 2, 2, 1, 0, 1, 2, 2, 2, 3, 3, 2, 0, 0],\n",
       " [2, 0, 2, 0, 0, 1, 1, 0, 1, 2, 2, 2, 2, 0, 1, 2, 3, 1, 0, 2],\n",
       " [0, 1, 1, 2, 3, 1, 3, 0, 3, 0, 2, 1, 0, 3, 2, 1, 0, 0, 3, 0],\n",
       " [3, 0, 2, 1, 0, 1, 3, 2, 0, 0, 1, 1, 3, 2, 2, 3, 1, 1, 2, 3],\n",
       " [2, 0, 0, 1, 0, 1, 1, 0, 3, 0, 3, 2, 2, 1, 0, 0, 2, 1, 1, 1],\n",
       " [1, 0, 0, 3, 3, 2, 2, 3, 1, 1, 2, 3, 0, 0, 3, 0, 0, 1, 0, 3],\n",
       " [0, 0, 2, 0, 1, 2, 2, 2, 2, 3, 0, 3, 2, 2, 3, 3, 2, 1, 0, 2],\n",
       " [1, 0, 0, 1, 2, 3, 0, 2, 0, 1, 0, 0, 0, 3, 3, 0, 2, 0, 2, 0],\n",
       " [2, 2, 0, 2, 1, 3, 3, 2, 2, 1, 0, 2, 3, 0, 2, 2, 2, 1, 1, 2]]"
      ]
     },
     "execution_count": 7,
     "metadata": {},
     "output_type": "execute_result"
    }
   ],
   "source": [
    "rows_list = []\n",
    "for row_index in range(num_rows):\n",
    "    row = []\n",
    "    for colum_index in range(num_columns):\n",
    "        row.append(random.randint(low, high))\n",
    "    rows_list.append(row)\n",
    "rows_list"
   ]
  },
  {
   "cell_type": "code",
   "execution_count": 8,
   "id": "cb17f015",
   "metadata": {
    "slideshow": {
     "slide_type": "fragment"
    }
   },
   "outputs": [
    {
     "data": {
      "text/plain": [
       "array([[3, 2, 3, 2, 3, 1, 0, 0, 2, 3, 2, 2, 2, 0, 2, 2, 1, 3, 0, 2],\n",
       "       [1, 3, 3, 3, 3, 0, 3, 1, 2, 1, 3, 2, 1, 0, 1, 1, 2, 0, 3, 0],\n",
       "       [0, 0, 1, 0, 3, 2, 0, 3, 3, 1, 3, 0, 3, 0, 1, 3, 2, 0, 2, 2],\n",
       "       [3, 3, 3, 2, 1, 0, 0, 1, 3, 3, 0, 0, 0, 0, 3, 3, 1, 1, 3, 3],\n",
       "       [2, 0, 3, 3, 3, 2, 1, 0, 3, 3, 0, 1, 1, 2, 1, 1, 1, 0, 0, 2],\n",
       "       [0, 1, 0, 1, 2, 1, 0, 3, 3, 3, 1, 0, 2, 1, 3, 0, 3, 1, 0, 1],\n",
       "       [3, 1, 0, 1, 3, 0, 3, 3, 3, 1, 0, 2, 3, 1, 0, 0, 3, 0, 0, 3],\n",
       "       [2, 1, 3, 2, 2, 1, 0, 3, 3, 2, 0, 0, 2, 1, 0, 3, 3, 2, 1, 2],\n",
       "       [1, 0, 1, 3, 3, 3, 2, 0, 1, 1, 2, 0, 0, 1, 2, 0, 3, 2, 1, 1],\n",
       "       [3, 2, 0, 1, 1, 1, 3, 2, 2, 2, 0, 3, 0, 0, 1, 0, 0, 3, 3, 1]])"
      ]
     },
     "execution_count": 8,
     "metadata": {},
     "output_type": "execute_result"
    }
   ],
   "source": [
    "array = np.random.randint(low, high + 1, shape)\n",
    "array"
   ]
  },
  {
   "cell_type": "code",
   "execution_count": 9,
   "id": "915c9e92",
   "metadata": {
    "slideshow": {
     "slide_type": "slide"
    }
   },
   "outputs": [
    {
     "data": {
      "text/plain": [
       "281"
      ]
     },
     "execution_count": 9,
     "metadata": {},
     "output_type": "execute_result"
    }
   ],
   "source": [
    "total = 0\n",
    "for row in rows_list:\n",
    "    for value in row:\n",
    "        total += value\n",
    "total"
   ]
  },
  {
   "cell_type": "code",
   "execution_count": 10,
   "id": "5b0a0347",
   "metadata": {
    "slideshow": {
     "slide_type": "fragment"
    }
   },
   "outputs": [
    {
     "data": {
      "text/plain": [
       "303"
      ]
     },
     "execution_count": 10,
     "metadata": {},
     "output_type": "execute_result"
    }
   ],
   "source": [
    "array.sum()"
   ]
  },
  {
   "cell_type": "code",
   "execution_count": 11,
   "id": "b103aab5",
   "metadata": {
    "slideshow": {
     "slide_type": "fragment"
    }
   },
   "outputs": [
    {
     "data": {
      "text/plain": [
       "281"
      ]
     },
     "execution_count": 11,
     "metadata": {},
     "output_type": "execute_result"
    }
   ],
   "source": [
    "np.asarray(rows_list).sum()"
   ]
  }
 ],
 "metadata": {
  "celltoolbar": "Slideshow",
  "kernelspec": {
   "display_name": "Python 3 (ipykernel)",
   "language": "python",
   "name": "python3"
  },
  "language_info": {
   "codemirror_mode": {
    "name": "ipython",
    "version": 3
   },
   "file_extension": ".py",
   "mimetype": "text/x-python",
   "name": "python",
   "nbconvert_exporter": "python",
   "pygments_lexer": "ipython3",
   "version": "3.9.7"
  }
 },
 "nbformat": 4,
 "nbformat_minor": 5
}
