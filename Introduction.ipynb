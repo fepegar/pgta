{
 "cells": [
  {
   "cell_type": "markdown",
   "metadata": {
    "slideshow": {
     "slide_type": "slide"
    }
   },
   "source": [
    "# Scientific computing with Python"
   ]
  },
  {
   "cell_type": "markdown",
   "metadata": {},
   "source": [
    "## Introduction"
   ]
  },
  {
   "cell_type": "code",
   "execution_count": 1,
   "metadata": {
    "slideshow": {
     "slide_type": "fragment"
    }
   },
   "outputs": [
    {
     "data": {
      "text/plain": [
       "[0.9565444026182636,\n",
       " 0.41387567883564946,\n",
       " 0.97858712348084,\n",
       " 0.4170883839497198,\n",
       " 0.8650463640290483]"
      ]
     },
     "execution_count": 1,
     "metadata": {},
     "output_type": "execute_result"
    }
   ],
   "source": [
    "import random\n",
    "\n",
    "numbers = []\n",
    "for _ in range(1_000_000):  # or 1000000, or 1e6\n",
    "    number = random.random()\n",
    "    numbers.append(number)\n",
    "numbers[:5]"
   ]
  },
  {
   "cell_type": "code",
   "execution_count": 2,
   "metadata": {
    "slideshow": {
     "slide_type": "fragment"
    }
   },
   "outputs": [
    {
     "name": "stdout",
     "output_type": "stream",
     "text": [
      "24 ms ± 61.7 µs per loop (mean ± std. dev. of 7 runs, 10 loops each)\n"
     ]
    }
   ],
   "source": [
    "%%timeit\n",
    "total = 0\n",
    "for number in numbers:\n",
    "    total = total + number  # or total += number"
   ]
  },
  {
   "cell_type": "code",
   "execution_count": 3,
   "metadata": {
    "slideshow": {
     "slide_type": "fragment"
    }
   },
   "outputs": [
    {
     "data": {
      "text/plain": [
       "array([0.98924364, 0.39475483, 0.63472427, 0.48355875, 0.9824865 ])"
      ]
     },
     "execution_count": 3,
     "metadata": {},
     "output_type": "execute_result"
    }
   ],
   "source": [
    "import numpy as np\n",
    "\n",
    "numbers = np.random.rand(1_000_000)\n",
    "numbers[:5]"
   ]
  },
  {
   "cell_type": "code",
   "execution_count": 4,
   "metadata": {
    "slideshow": {
     "slide_type": "fragment"
    }
   },
   "outputs": [
    {
     "name": "stdout",
     "output_type": "stream",
     "text": [
      "408 µs ± 4.69 µs per loop (mean ± std. dev. of 7 runs, 1000 loops each)\n"
     ]
    }
   ],
   "source": [
    "%%timeit\n",
    "total = numbers.sum()"
   ]
  },
  {
   "cell_type": "code",
   "execution_count": 5,
   "metadata": {},
   "outputs": [
    {
     "name": "stdout",
     "output_type": "stream",
     "text": [
      "Time difference: 22.6 ms\n",
      "NumPy was 55 times faster\n"
     ]
    }
   ],
   "source": [
    "time_python = 23e-3  # or 23 * 10**(-3)\n",
    "time_numpy = 420e-6\n",
    "difference = time_python - time_numpy\n",
    "ratio = round(time_python / time_numpy)\n",
    "print(f'Time difference: {difference * 1000:.1f} ms')\n",
    "print(f'NumPy was {ratio} times faster')"
   ]
  },
  {
   "cell_type": "code",
   "execution_count": 21,
   "metadata": {},
   "outputs": [],
   "source": [
    "num_rows, num_columns = shape = 10, 20\n",
    "low, high = 0, 3"
   ]
  },
  {
   "cell_type": "code",
   "execution_count": 22,
   "metadata": {},
   "outputs": [
    {
     "data": {
      "text/plain": [
       "[[0, 0, 1, 1, 2, 2, 3, 3, 1, 1, 3, 1, 1, 3, 3, 3, 0, 0, 2, 3],\n",
       " [1, 1, 0, 0, 0, 0, 0, 1, 3, 3, 2, 3, 2, 1, 0, 2, 0, 1, 3, 0],\n",
       " [1, 0, 2, 1, 2, 3, 0, 2, 3, 0, 2, 1, 1, 3, 1, 0, 2, 1, 1, 2],\n",
       " [2, 1, 3, 2, 2, 0, 0, 0, 3, 1, 2, 2, 1, 2, 0, 2, 0, 1, 2, 0],\n",
       " [2, 1, 2, 3, 0, 3, 2, 0, 3, 3, 0, 0, 2, 2, 0, 0, 1, 3, 1, 1],\n",
       " [3, 0, 3, 1, 1, 0, 0, 2, 0, 0, 0, 1, 0, 2, 1, 0, 3, 1, 0, 2],\n",
       " [3, 2, 1, 1, 0, 1, 2, 3, 2, 0, 1, 1, 0, 2, 2, 3, 0, 0, 3, 3],\n",
       " [2, 1, 3, 0, 2, 2, 0, 2, 1, 3, 2, 2, 3, 3, 3, 0, 0, 1, 1, 1],\n",
       " [0, 3, 2, 1, 0, 2, 0, 2, 1, 0, 3, 3, 2, 3, 0, 2, 2, 1, 0, 2],\n",
       " [3, 0, 1, 1, 1, 2, 0, 3, 1, 1, 0, 0, 0, 3, 1, 1, 2, 2, 3, 0]]"
      ]
     },
     "execution_count": 22,
     "metadata": {},
     "output_type": "execute_result"
    }
   ],
   "source": [
    "rows_list = []\n",
    "for row_index in range(num_rows):\n",
    "    row = []\n",
    "    for colum_index in range(num_columns):\n",
    "        row.append(random.randint(low, high))\n",
    "    rows_list.append(row)\n",
    "rows_list"
   ]
  },
  {
   "cell_type": "code",
   "execution_count": 23,
   "metadata": {},
   "outputs": [
    {
     "data": {
      "text/plain": [
       "array([[1, 2, 3, 1, 3, 2, 3, 1, 1, 0, 1, 3, 3, 1, 2, 0, 1, 1, 0, 3],\n",
       "       [3, 3, 1, 2, 2, 3, 1, 2, 2, 0, 0, 2, 0, 2, 1, 3, 0, 3, 0, 0],\n",
       "       [3, 1, 2, 3, 0, 2, 1, 0, 0, 2, 3, 3, 1, 1, 2, 3, 2, 2, 2, 3],\n",
       "       [0, 1, 1, 3, 0, 2, 1, 3, 0, 1, 2, 2, 3, 1, 2, 3, 2, 2, 2, 1],\n",
       "       [2, 1, 2, 1, 2, 3, 2, 1, 3, 0, 3, 2, 2, 0, 1, 0, 2, 3, 0, 2],\n",
       "       [2, 3, 1, 2, 0, 1, 3, 3, 2, 0, 0, 0, 1, 3, 0, 1, 1, 2, 3, 2],\n",
       "       [2, 0, 2, 3, 0, 3, 2, 1, 2, 0, 1, 0, 0, 0, 1, 2, 1, 0, 2, 3],\n",
       "       [0, 3, 2, 3, 3, 1, 3, 0, 1, 0, 1, 2, 0, 3, 1, 2, 3, 3, 2, 1],\n",
       "       [2, 1, 3, 3, 3, 3, 1, 2, 1, 0, 2, 1, 3, 1, 2, 0, 2, 2, 0, 0],\n",
       "       [3, 3, 3, 0, 0, 3, 0, 1, 3, 2, 1, 2, 0, 2, 2, 3, 0, 1, 0, 3]])"
      ]
     },
     "execution_count": 23,
     "metadata": {},
     "output_type": "execute_result"
    }
   ],
   "source": [
    "array = np.random.randint(low, high + 1, shape)\n",
    "array"
   ]
  },
  {
   "cell_type": "code",
   "execution_count": 24,
   "metadata": {},
   "outputs": [
    {
     "data": {
      "text/plain": [
       "275"
      ]
     },
     "execution_count": 24,
     "metadata": {},
     "output_type": "execute_result"
    }
   ],
   "source": [
    "total = 0\n",
    "for row in rows_list:\n",
    "    for value in row:\n",
    "        total += value\n",
    "total"
   ]
  },
  {
   "cell_type": "code",
   "execution_count": 25,
   "metadata": {},
   "outputs": [
    {
     "data": {
      "text/plain": [
       "315"
      ]
     },
     "execution_count": 25,
     "metadata": {},
     "output_type": "execute_result"
    }
   ],
   "source": [
    "array.sum()"
   ]
  },
  {
   "cell_type": "code",
   "execution_count": 26,
   "metadata": {},
   "outputs": [
    {
     "data": {
      "text/plain": [
       "275"
      ]
     },
     "execution_count": 26,
     "metadata": {},
     "output_type": "execute_result"
    }
   ],
   "source": [
    "np.asarray(rows_list).sum()"
   ]
  }
 ],
 "metadata": {
  "kernelspec": {
   "display_name": "Python 3",
   "language": "python",
   "name": "python3"
  },
  "language_info": {
   "codemirror_mode": {
    "name": "ipython",
    "version": 3
   },
   "file_extension": ".py",
   "mimetype": "text/x-python",
   "name": "python",
   "nbconvert_exporter": "python",
   "pygments_lexer": "ipython3",
   "version": "3.8.5"
  }
 },
 "nbformat": 4,
 "nbformat_minor": 5
}
